{
 "cells": [
  {
   "cell_type": "markdown",
   "id": "variable-garbage",
   "metadata": {},
   "source": [
    "# Graph Algorithms (BFS, DFS, Shortest Paths) using Python\n"
   ]
  },
  {
   "cell_type": "markdown",
   "id": "stretch-superior",
   "metadata": {},
   "source": [
    "## Graph Data Strucutre\n",
    "\n",
    "![](https://i.imgur.com/xkgMnwx.png)\n",
    "\n"
   ]
  },
  {
   "cell_type": "markdown",
   "id": "desirable-possibility",
   "metadata": {},
   "source": [
    "### Input Data"
   ]
  },
  {
   "cell_type": "code",
   "execution_count": 6,
   "id": "according-lunch",
   "metadata": {},
   "outputs": [
    {
     "data": {
      "text/plain": [
       "(5, 7)"
      ]
     },
     "execution_count": 6,
     "metadata": {},
     "output_type": "execute_result"
    }
   ],
   "source": [
    "num_nodes1 = 5\n",
    "edges1 = [(0, 1), (1, 2), (2, 3), (3, 4), (4, 0), (1, 4), (1, 3)]\n",
    "num_nodes1, len(edges1)"
   ]
  },
  {
   "cell_type": "code",
   "execution_count": 25,
   "id": "italian-armor",
   "metadata": {},
   "outputs": [
    {
     "data": {
      "text/plain": [
       "(9, 8)"
      ]
     },
     "execution_count": 25,
     "metadata": {},
     "output_type": "execute_result"
    }
   ],
   "source": [
    "num_nodes3 = 9\n",
    "edges3 = [(0, 1), (0, 3), (1, 2), (2, 3), (4, 5), (4, 6), (5, 6), (7, 8)]\n",
    "num_nodes3, len(edges3)"
   ]
  },
  {
   "cell_type": "markdown",
   "id": "broke-carroll",
   "metadata": {},
   "source": [
    "### Weighted Graphs\n",
    "\n",
    "![](https://i.imgur.com/wy7ZHRW.png)\n",
    "\n"
   ]
  },
  {
   "cell_type": "code",
   "execution_count": 15,
   "id": "strategic-deposit",
   "metadata": {},
   "outputs": [
    {
     "data": {
      "text/plain": [
       "(9, 10)"
      ]
     },
     "execution_count": 15,
     "metadata": {},
     "output_type": "execute_result"
    }
   ],
   "source": [
    "num_nodes5 = 9\n",
    "edges5 = [(0, 1, 3), (0, 3, 2), (0, 8, 4), (1, 7, 4), (2, 7, 2), (2, 3, 6), \n",
    "          (2, 5, 1), (3, 4, 1), (4, 8, 8), (5, 6, 8)]\n",
    "\n",
    "num_nodes5, len(edges5)"
   ]
  },
  {
   "cell_type": "markdown",
   "id": "abstract-return",
   "metadata": {},
   "source": [
    "### Directed Graphs\n",
    "\n",
    "<img src=\"https://i.imgur.com/8AN7EUV.png\" width=\"480\">"
   ]
  },
  {
   "cell_type": "code",
   "execution_count": 16,
   "id": "broke-hungarian",
   "metadata": {},
   "outputs": [
    {
     "data": {
      "text/plain": [
       "(5, 6)"
      ]
     },
     "execution_count": 16,
     "metadata": {},
     "output_type": "execute_result"
    }
   ],
   "source": [
    "# Directed graph\n",
    "num_nodes6 = 5\n",
    "edges6 = [(0, 1), (1, 2), (2, 3), (2, 4), (4, 2), (3, 0)]\n",
    "num_nodes6, len(edges6)"
   ]
  },
  {
   "cell_type": "code",
   "execution_count": 24,
   "id": "instructional-sarah",
   "metadata": {},
   "outputs": [
    {
     "data": {
      "text/plain": [
       "(6, 7)"
      ]
     },
     "execution_count": 24,
     "metadata": {},
     "output_type": "execute_result"
    }
   ],
   "source": [
    "num_nodes7 = 6\n",
    "edges7 = [(0, 1, 4), (0, 2, 2), (1, 2, 5), (1, 3, 10), (2, 4, 3), (4, 3, 4), (3, 5, 11)]\n",
    "num_nodes7, len(edges7)"
   ]
  },
  {
   "cell_type": "markdown",
   "id": "white-outdoors",
   "metadata": {},
   "source": [
    "### Adjacency Lists\n",
    "\n",
    "![](https://i.imgur.com/rgMwkIW.png)\n",
    "\n",
    "\n",
    "> **Question**: Create a class to represent a graph as an adjacency list in Python"
   ]
  },
  {
   "cell_type": "markdown",
   "id": "homeless-hawaii",
   "metadata": {},
   "source": [
    "### Adjacency List"
   ]
  },
  {
   "cell_type": "code",
   "execution_count": 7,
   "id": "5ba7a4d4",
   "metadata": {},
   "outputs": [],
   "source": [
    "class Graph:\n",
    "    def __init__(self,num_nodes,edges):\n",
    "        self.data=[[] for _ in range(num_nodes)]\n",
    "        for v1,v2 in edges:\n",
    "            self.data[v1].append(v2)\n",
    "            self.data[v2].append(v1)\n",
    "    def __repr__(self):\n",
    "        return \"\\n\".join([\"{} : {}\".format(i,neighbours) for i, neighbours in enumerate(self.data)])"
   ]
  },
  {
   "cell_type": "code",
   "execution_count": 14,
   "id": "buried-brake",
   "metadata": {},
   "outputs": [],
   "source": [
    "g1 = Graph(num_nodes1, edges1)"
   ]
  },
  {
   "cell_type": "code",
   "execution_count": 15,
   "id": "honey-tension",
   "metadata": {},
   "outputs": [
    {
     "name": "stdout",
     "output_type": "stream",
     "text": [
      "0 : [1, 4]\n",
      "1 : [0, 2, 4, 3]\n",
      "2 : [1, 3]\n",
      "3 : [2, 4, 1]\n",
      "4 : [3, 0, 1]\n"
     ]
    }
   ],
   "source": [
    "print(g1)"
   ]
  },
  {
   "cell_type": "markdown",
   "id": "spatial-howard",
   "metadata": {},
   "source": [
    "## Graph Traversal\n",
    "\n",
    "\n",
    "### Breadth-First Search\n",
    "\n",
    "A real-world graph:\n",
    "\n",
    "![](https://upload.wikimedia.org/wikipedia/commons/thumb/a/ad/MapGermanyGraph.svg/500px-MapGermanyGraph.svg.png)\n",
    "\n",
    "Breadth-fist search tree (starting from Frankfurt):\n",
    "\n",
    "![](https://upload.wikimedia.org/wikipedia/commons/thumb/6/63/GermanyBFS.svg/500px-GermanyBFS.svg.png)\n",
    "\n",
    "> **Question**: Implement breadth-first search given a source node in a graph using Python.\n",
    "\n",
    "\n",
    "<img src=\"https://i.imgur.com/E2Up1Pk.png\" width=\"400\">\n",
    "\n",
    "BFS pseudocode (Wikipedia):\n",
    "\n",
    "```\n",
    " 1  procedure BFS(G, root) is\n",
    " 2      let Q be a queue\n",
    " 3      label root as discovered\n",
    " 4      Q.enqueue(root)\n",
    " 5      while Q is not empty do\n",
    " 6          v := Q.dequeue()\n",
    " 7          if v is the goal then\n",
    " 8              return v\n",
    " 9          for all edges from v to w in G.adjacentEdges(v) do\n",
    "10              if w is not labeled as discovered then\n",
    "11                  label w as discovered\n",
    "12                  Q.enqueue(w)\n",
    "```\n",
    "\n"
   ]
  },
  {
   "cell_type": "markdown",
   "id": "fifty-portland",
   "metadata": {},
   "source": [
    "### Breadth First Search\n",
    "\n",
    "Complexity $O(m + n)$"
   ]
  },
  {
   "cell_type": "code",
   "execution_count": 20,
   "id": "hairy-technique",
   "metadata": {},
   "outputs": [],
   "source": [
    "def bfs(graph,source):\n",
    "    visited=[False]*len(graph.data)\n",
    "    queue=[]\n",
    "    visited[source]=True\n",
    "    queue.append(source)\n",
    "    i=0\n",
    "    while i<len(queue):\n",
    "        for v in graph.data[queue[i]]:\n",
    "            if not visited[v]:\n",
    "                visited[v]=True\n",
    "                queue.append(v)\n",
    "            i+=1\n",
    "    return queue"
   ]
  },
  {
   "cell_type": "code",
   "execution_count": 21,
   "id": "deluxe-trust",
   "metadata": {},
   "outputs": [
    {
     "data": {
      "text/plain": [
       "[3, 2, 4, 1, 0]"
      ]
     },
     "execution_count": 21,
     "metadata": {},
     "output_type": "execute_result"
    }
   ],
   "source": [
    "bfs(g1, 3)"
   ]
  },
  {
   "cell_type": "markdown",
   "id": "parliamentary-veteran",
   "metadata": {},
   "source": [
    "## Depth-first search\n",
    "Complexity $O(m + n)$\n",
    "![](https://upload.wikimedia.org/wikipedia/commons/thumb/7/7f/Depth-First-Search.gif/440px-Depth-First-Search.gif)\n",
    "\n",
    "\n",
    "> **Question**: Implement depth first search from a given node in a graph using Python.\n",
    "\n",
    "<img src=\"https://i.imgur.com/E2Up1Pk.png\" width=\"400\">\n",
    "\n",
    "DFS pseudocode (Wikipedia):\n",
    "\n",
    "```\n",
    "procedure DFS_iterative(G, v) is\n",
    "    let S be a stack\n",
    "    S.push(v)\n",
    "    while S is not empty do\n",
    "        v = S.pop()\n",
    "        if v is not labeled as discovered then\n",
    "            label v as discovered\n",
    "            for all edges from v to w in G.adjacentEdges(v) do \n",
    "                S.push(w)\n",
    "```\n",
    "\n",
    "\n"
   ]
  },
  {
   "cell_type": "markdown",
   "id": "active-simon",
   "metadata": {},
   "source": [
    "### Depth First Search"
   ]
  },
  {
   "cell_type": "code",
   "execution_count": 19,
   "id": "funded-insert",
   "metadata": {},
   "outputs": [
    {
     "data": {
      "text/plain": [
       "[0, 4, 1, 3, 2]"
      ]
     },
     "execution_count": 19,
     "metadata": {},
     "output_type": "execute_result"
    }
   ],
   "source": [
    "def dfs(graph,source):\n",
    "    stack=[]\n",
    "    visited=[False]*len(graph.data)\n",
    "    stack.append(source)\n",
    "    results=[]\n",
    "    while len(stack)>0:\n",
    "        current=stack.pop()\n",
    "        if not visited[current]:\n",
    "            visited[current]=True\n",
    "            results.append(current)\n",
    "            for v in graph.data[current]:\n",
    "                stack.append(v)\n",
    "    return results\n",
    "dfs(g1,0)"
   ]
  },
  {
   "cell_type": "markdown",
   "id": "lasting-directory",
   "metadata": {},
   "source": [
    "### Directed and Weighted Graph"
   ]
  },
  {
   "cell_type": "code",
   "execution_count": 35,
   "id": "ce68b37e",
   "metadata": {},
   "outputs": [],
   "source": [
    "class Graph:\n",
    "    def __init__(self,num_nodes,edges,directed=True):\n",
    "        self.data=[[] for _ in range(num_nodes)]\n",
    "        self.directed=directed\n",
    "        self.weighted=len(edges)>0 and len(edges[0])==3\n",
    "        self.weight=[[] for _ in range(num_nodes)]\n",
    "        \n",
    "        for e in edges:\n",
    "            self.data[e[0]].append(e[1])\n",
    "            if self.weighted:\n",
    "                self.weight[e[0]].append(e[2])\n",
    "            if not directed:\n",
    "                self.data[e[1]].append(e[0])\n",
    "                self.weight[e[1]].append(e[2])\n",
    "    def __repr__(self):\n",
    "        results=\"\"\n",
    "        for i in range(len(self.data)):\n",
    "            pairs=list(zip(self.data[i],self.weight[i]))\n",
    "            results+=\"{}:{}\\n\".format(i,pairs)\n",
    "        return results\n",
    "            "
   ]
  },
  {
   "cell_type": "code",
   "execution_count": 36,
   "id": "d39e22e8",
   "metadata": {},
   "outputs": [],
   "source": [
    "g7 = Graph(num_nodes7, edges7, directed=True)"
   ]
  },
  {
   "cell_type": "code",
   "execution_count": 37,
   "id": "e54b828e",
   "metadata": {},
   "outputs": [
    {
     "data": {
      "text/plain": [
       "0:[(1, 4), (2, 2)]\n",
       "1:[(2, 5), (3, 10)]\n",
       "2:[(4, 3)]\n",
       "3:[(5, 11)]\n",
       "4:[(3, 4)]\n",
       "5:[]"
      ]
     },
     "execution_count": 37,
     "metadata": {},
     "output_type": "execute_result"
    }
   ],
   "source": [
    "g7"
   ]
  },
  {
   "cell_type": "markdown",
   "id": "posted-peripheral",
   "metadata": {},
   "source": [
    "## Shortest Paths\n",
    "\n",
    "\n",
    "> **Question**: Write a function to find the length of the shortest path between two nodes in a weighted directed graph.\n",
    "\n",
    "<img src=\"https://i.imgur.com/Zn5cUkO.png\" width=\"480\">\n",
    "\n",
    "\n",
    "**Dijkstra's algorithm (Wikipedia)**:\n",
    "\n",
    "![](https://upload.wikimedia.org/wikipedia/commons/5/57/Dijkstra_Animation.gif)\n",
    "\n",
    "1. Mark all nodes unvisited. Create a set of all the unvisited nodes called the unvisited set.\n",
    "2. Assign to every node a tentative distance value: set it to zero for our initial node and to infinity for all other nodes. Set the initial node as current.[16]\n",
    "3. For the current node, consider all of its unvisited neighbours and calculate their tentative distances through the current node. Compare the newly calculated tentative distance to the current assigned value and assign the smaller one. For example, if the current node A is marked with a distance of 6, and the edge connecting it with a neighbour B has length 2, then the distance to B through A will be 6 + 2 = 8. If B was previously marked with a distance greater than 8 then change it to 8. Otherwise, the current value will be kept.\n",
    "4. When we are done considering all of the unvisited neighbours of the current node, mark the current node as visited and remove it from the unvisited set. A visited node will never be checked again.\n",
    "5. If the destination node has been marked visited (when planning a route between two specific nodes) or if the smallest tentative distance among the nodes in the unvisited set is infinity (when planning a complete traversal; occurs when there is no connection between the initial node and remaining unvisited nodes), then stop. The algorithm has finished.\n",
    "6. Otherwise, select the unvisited node that is marked with the smallest tentative distance, set it as the new \"current node\", and go back to step 3."
   ]
  },
  {
   "cell_type": "markdown",
   "id": "confident-rochester",
   "metadata": {},
   "source": [
    "### Shortest Path - Dijkstra's Algorithm\n",
    "Complexity $On(m + n)$  \n",
    "if min heap is used to pick up next node then:\n",
    "Complexity $Ologn(m + n)$"
   ]
  },
  {
   "cell_type": "markdown",
   "id": "celtic-tension",
   "metadata": {},
   "source": [
    "<img src=\"https://i.imgur.com/Zn5cUkO.png\" width=\"400\">"
   ]
  },
  {
   "cell_type": "code",
   "execution_count": 39,
   "id": "6af73baa",
   "metadata": {},
   "outputs": [
    {
     "data": {
      "text/plain": [
       "(20, [0, 4, 2, 9, 5, 20], [None, 0, 0, 4, 2, 3])"
      ]
     },
     "execution_count": 39,
     "metadata": {},
     "output_type": "execute_result"
    }
   ],
   "source": [
    "def shortest_path(graph,source,dest,parent=None):\n",
    "    queue=[]\n",
    "    visited=[False]*len(graph.data)\n",
    "    distance=[float('inf')]*len(graph.data)\n",
    "    parent=[None]*len(graph.data)\n",
    "    queue.append(source)\n",
    "    distance[source]=0\n",
    "    i=0\n",
    "    while i<len(queue) and not visited[dest]:\n",
    "        current=queue[i]\n",
    "        update_distances(graph,current,distance,parent)\n",
    "        next_node=pick_next_node(distance,visited)\n",
    "        if next_node:\n",
    "            visited[next_node]=True\n",
    "            queue.append(next_node)\n",
    "        i+=1\n",
    "    return distance[dest],distance,parent\n",
    "\n",
    "def update_distances(graph,current,distance,parent):\n",
    "    neighbours=graph.data[current]\n",
    "    weights=graph.weight[current]\n",
    "    for i, node in enumerate(neighbours):\n",
    "        weight=weights[i]\n",
    "        if distance[current]+weight<distance[node]:\n",
    "            distance[node]=distance[current]+weight\n",
    "            if parent:\n",
    "                parent[node]=current\n",
    "def pick_next_node(distances,visited):\n",
    "    min_distance=float('inf')\n",
    "    min_node=None\n",
    "    for node in range(len(distances)):\n",
    "        if not visited[node] and distances[node]<min_distance:\n",
    "            min_node=node\n",
    "            min_dustance=distances[node]\n",
    "    return min_node\n",
    "\n",
    "shortest_path(g7, 0, 5)"
   ]
  },
  {
   "cell_type": "markdown",
   "id": "coordinate-circle",
   "metadata": {},
   "source": [
    "### Binary Heap\n",
    "\n",
    "A data structure to maintain the running minimum/maximum of a set of numbers, supporting efficient addition/removal.\n",
    "\n",
    "\n",
    "<img src=\"https://i.imgur.com/ABAcM7m.png\" width=\"400\">\n",
    "\n",
    "\n",
    "Heap operations:\n",
    "\n",
    "- Insertion - $O(log N)$\n",
    "- Min/Max - $O(1)$ (depending on type of heap)\n",
    "- Deletion - $O(log N)$\n",
    "- Convert a list to a heap - $O(n)$\n",
    "\n",
    "\n",
    "Python's built-in heap: https://docs.python.org/3/library/heapq.html\n",
    "\n",
    "> **Question**: Implement Dijkstra's shortest path algorithm using the `heap` module from Python. What is the complexity of the algorithm?"
   ]
  },
  {
   "cell_type": "markdown",
   "id": "pointed-diabetes",
   "metadata": {},
   "source": [
    "### More Problems\n",
    "\n",
    "Solve more graph problems here: https://leetcode.com/tag/graph/"
   ]
  }
 ],
 "metadata": {
  "kernelspec": {
   "display_name": "Python 3 (ipykernel)",
   "language": "python",
   "name": "python3"
  },
  "language_info": {
   "codemirror_mode": {
    "name": "ipython",
    "version": 3
   },
   "file_extension": ".py",
   "mimetype": "text/x-python",
   "name": "python",
   "nbconvert_exporter": "python",
   "pygments_lexer": "ipython3",
   "version": "3.9.7"
  }
 },
 "nbformat": 4,
 "nbformat_minor": 5
}
